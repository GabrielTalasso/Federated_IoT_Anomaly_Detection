{
 "cells": [
  {
   "cell_type": "code",
   "execution_count": null,
   "metadata": {},
   "outputs": [],
   "source": [
    "import pandas as pd\n",
    "import numpy as np\n",
    "import seaborn as sns\n",
    "sns.set()\n",
    "\n",
    "import matplotlib.pyplot as plt\n",
    "import numpy as np\n",
    "import pandas as pd\n",
    "\n",
    "from sklearn.metrics import accuracy_score, f1_score, precision_score, recall_score\n",
    "\n",
    "import warnings\n",
    "warnings.filterwarnings('ignore')"
   ]
  },
  {
   "cell_type": "code",
   "execution_count": null,
   "metadata": {},
   "outputs": [],
   "source": [
    "datas = []"
   ]
  },
  {
   "cell_type": "code",
   "execution_count": null,
   "metadata": {},
   "outputs": [],
   "source": [
    "test_name = '5_epochs_FL'#'descentralized_all_w_local_training_wo_global_data'\n",
    "loss = 'mse'\n",
    "model = 'All'\n",
    "model_type = 'CNN'\n",
    "\n",
    "file = f'/home/gabrieltalasso/IoT_Anomaly_Detection/logs/SKAB/{model_type}/{test_name}/evaluate_before_train/loss_{loss}_{model}.csv'\n",
    "names = ['cid', 'round', 'loss','diff', 'anomaly', 'anomaly2']\n",
    "\n",
    "data = pd.read_csv(file,\n",
    "                    names = names)\n",
    "data['client_anom'] = 'Yes'\n",
    "    \n",
    "datas.append(data)"
   ]
  },
  {
   "cell_type": "code",
   "execution_count": null,
   "metadata": {},
   "outputs": [],
   "source": [
    "test_name = 'anomaly2_FL_5epochs'#'descentralized_all_w_local_training_wo_global_data'\n",
    "loss = 'mse'\n",
    "model = 'All'\n",
    "model_type = 'CNN'\n",
    "\n",
    "anom_clients = [0,1,2,3,4]\n",
    "\n",
    "file = f'/home/gabrieltalasso/IoT_Anomaly_Detection/logs/synthetic/{model_type}/{test_name}/evaluate_before_train/loss_{loss}_{model}.csv'\n",
    "names = ['cid', 'round', 'loss','diff', 'anomaly', 'anomaly2', 'anomaly3']\n",
    "\n",
    "data = pd.read_csv(file,\n",
    "                names = names)\n",
    "\n",
    "data['client_anom'] = data['cid'].apply(lambda x: 'Yes' if x in anom_clients else 'No')\n",
    "datas.append(data)"
   ]
  },
  {
   "cell_type": "code",
   "execution_count": null,
   "metadata": {},
   "outputs": [],
   "source": [
    "test_name = 'anomaly5_FL_5epochs'#'descentralized_all_w_local_training_wo_global_data'\n",
    "loss = 'mse'\n",
    "model = 'All'\n",
    "model_type = 'CNN'\n",
    "\n",
    "anom_clients = [0,1,2,3,4]\n",
    "\n",
    "file = f'/home/gabrieltalasso/IoT_Anomaly_Detection/logs/synthetic/{model_type}/{test_name}/evaluate_before_train/loss_{loss}_{model}.csv'\n",
    "names = ['cid', 'round', 'loss','diff', 'anomaly', 'anomaly2', 'anomaly3']\n",
    "\n",
    "data = pd.read_csv(file,\n",
    "                names = names)\n",
    "\n",
    "data['client_anom'] = data['cid'].apply(lambda x: 'Yes' if x in anom_clients else 'No')\n",
    "datas.append(data)\n"
   ]
  },
  {
   "cell_type": "code",
   "execution_count": null,
   "metadata": {},
   "outputs": [],
   "source": [
    "sns.set_theme(style='white')\n",
    "palette ={'Yes':'r', 'No':'b'}\n",
    "\n",
    "for i in range(3):\n",
    "    \n",
    "    sns.lineplot(datas[i], x = 'round', y = 'loss', hue='client_anom', palette=palette)\n",
    "    plt.grid(True, linestyle = ':')\n",
    "    plt.xlabel('Communication Rounds', size = 16)\n",
    "    plt.ylabel('Local Loss', size = 16)\n",
    "    plt.xticks(size = 14)\n",
    "    plt.yticks(size = 14)\n",
    "    plt.legend(title = 'Has Anomaly', fontsize=14)\n",
    "    plt.savefig(f'figures/loss{i}.png', dpi = 600, bbox_inches='tight')\n",
    "    plt.show()"
   ]
  },
  {
   "cell_type": "code",
   "execution_count": 222,
   "metadata": {},
   "outputs": [],
   "source": [
    "data = datas[0]\n",
    "analise = {'client':[],\n",
    "           'round':[]}\n",
    "\n",
    "for c in range(30):\n",
    "    d = []\n",
    "    for r in range(1,21):\n",
    "        rounds = list(range(min([1,r-2]),r+1))\n",
    "        data_ate_o_momento = data[data['round'].isin(rounds)]\n",
    "\n",
    "        diff_mean = data_ate_o_momento[data_ate_o_momento['cid']== c]['loss'].mean()\n",
    "\n",
    "        try:\n",
    "            atual_diff = data[(data['cid'] == c) & (data['round'] == r)]['loss'].values[0]\n",
    "        except IndexError:\n",
    "            #print('error', c, r)\n",
    "            pass\n",
    "\n",
    "        if atual_diff >=1.4*diff_mean:\n",
    "            if r>3:\n",
    "                analise['client'].append(c)\n",
    "                analise['round'].append(r)\n",
    "\n",
    "analise = pd.DataFrame(analise)\n",
    "analise['t_anom'] = 0\n",
    "analise['anom'] = 1\n",
    "r = 11\n",
    "for cid in list(range(0,30)):#[0,1,2,3,4,5]:\n",
    "       \n",
    "    try:\n",
    "        idx = analise[(analise['client'] == cid) & (analise['round'].isin([9,10,11]))].index.values[0] \n",
    "        analise.at[idx, 't_anom']= 1\n",
    "    except IndexError:\n",
    "        pass\n"
   ]
  },
  {
   "cell_type": "code",
   "execution_count": 223,
   "metadata": {},
   "outputs": [
    {
     "data": {
      "text/plain": [
       "0.761904761904762"
      ]
     },
     "execution_count": 223,
     "metadata": {},
     "output_type": "execute_result"
    }
   ],
   "source": [
    "f1_score( analise['t_anom'],analise['anom'])"
   ]
  },
  {
   "cell_type": "code",
   "execution_count": 224,
   "metadata": {},
   "outputs": [
    {
     "data": {
      "text/plain": [
       "1.0"
      ]
     },
     "execution_count": 224,
     "metadata": {},
     "output_type": "execute_result"
    }
   ],
   "source": [
    "recall_score(analise['t_anom'], analise['anom'])"
   ]
  },
  {
   "cell_type": "code",
   "execution_count": 195,
   "metadata": {},
   "outputs": [
    {
     "data": {
      "text/plain": [
       "0.39285714285714285"
      ]
     },
     "execution_count": 195,
     "metadata": {},
     "output_type": "execute_result"
    }
   ],
   "source": [
    "precision_score(analise['t_anom'], analise['anom'])"
   ]
  },
  {
   "cell_type": "code",
   "execution_count": 158,
   "metadata": {},
   "outputs": [
    {
     "name": "stdout",
     "output_type": "stream",
     "text": [
      "error 0 7\n",
      "error 0 15\n",
      "error 3 17\n",
      "error 12 11\n",
      "error 13 9\n",
      "error 13 14\n"
     ]
    }
   ],
   "source": [
    "data = datas[1]\n",
    "analise = {'client':[],\n",
    "           'round':[]}\n",
    "\n",
    "for c in range(30):\n",
    "    d = []\n",
    "    for r in range(1,21):\n",
    "        rounds = list(range(min([1,r-2]),r+1))\n",
    "        data_ate_o_momento = data[data['round'].isin(rounds)]\n",
    "\n",
    "        diff_mean = data_ate_o_momento[data_ate_o_momento['cid']== c]['loss'].mean()\n",
    "\n",
    "        try:\n",
    "            atual_diff = data[(data['cid'] == c) & (data['round'] == r)]['loss'].values[0]\n",
    "        except IndexError:\n",
    "            print('error', c, r)\n",
    "            pass\n",
    "\n",
    "        if atual_diff >=1.5*diff_mean:\n",
    "            if r>3:\n",
    "                analise['client'].append(c)\n",
    "                analise['round'].append(r)\n",
    "\n",
    "analise = pd.DataFrame(analise)\n",
    "analise['t_anom'] = 0\n",
    "analise['anom'] = 1\n",
    "r = 11\n",
    "for cid in [0,1,2,3,4,5]:\n",
    "       \n",
    "    try:\n",
    "        idx = analise[(analise['client'] == cid) & (analise['round'] == r)].index.values[0] \n",
    "        analise.at[idx, 't_anom']= 1\n",
    "    except IndexError:\n",
    "        pass\n"
   ]
  },
  {
   "cell_type": "code",
   "execution_count": 159,
   "metadata": {},
   "outputs": [
    {
     "data": {
      "text/plain": [
       "1.0"
      ]
     },
     "execution_count": 159,
     "metadata": {},
     "output_type": "execute_result"
    }
   ],
   "source": [
    "f1_score( analise['t_anom'],analise['anom'])"
   ]
  },
  {
   "cell_type": "code",
   "execution_count": 160,
   "metadata": {},
   "outputs": [
    {
     "data": {
      "text/plain": [
       "1.0"
      ]
     },
     "execution_count": 160,
     "metadata": {},
     "output_type": "execute_result"
    }
   ],
   "source": [
    "recall_score(analise['t_anom'], analise['anom'])"
   ]
  },
  {
   "cell_type": "code",
   "execution_count": 161,
   "metadata": {},
   "outputs": [
    {
     "data": {
      "text/plain": [
       "1.0"
      ]
     },
     "execution_count": 161,
     "metadata": {},
     "output_type": "execute_result"
    }
   ],
   "source": [
    "precision_score(analise['t_anom'], analise['anom'])"
   ]
  },
  {
   "cell_type": "code",
   "execution_count": 157,
   "metadata": {},
   "outputs": [
    {
     "data": {
      "text/html": [
       "<div>\n",
       "<style scoped>\n",
       "    .dataframe tbody tr th:only-of-type {\n",
       "        vertical-align: middle;\n",
       "    }\n",
       "\n",
       "    .dataframe tbody tr th {\n",
       "        vertical-align: top;\n",
       "    }\n",
       "\n",
       "    .dataframe thead th {\n",
       "        text-align: right;\n",
       "    }\n",
       "</style>\n",
       "<table border=\"1\" class=\"dataframe\">\n",
       "  <thead>\n",
       "    <tr style=\"text-align: right;\">\n",
       "      <th></th>\n",
       "      <th>client</th>\n",
       "      <th>round</th>\n",
       "      <th>t_anom</th>\n",
       "      <th>anom</th>\n",
       "    </tr>\n",
       "  </thead>\n",
       "  <tbody>\n",
       "    <tr>\n",
       "      <th>0</th>\n",
       "      <td>0</td>\n",
       "      <td>11</td>\n",
       "      <td>1</td>\n",
       "      <td>1</td>\n",
       "    </tr>\n",
       "    <tr>\n",
       "      <th>1</th>\n",
       "      <td>1</td>\n",
       "      <td>11</td>\n",
       "      <td>1</td>\n",
       "      <td>1</td>\n",
       "    </tr>\n",
       "    <tr>\n",
       "      <th>2</th>\n",
       "      <td>2</td>\n",
       "      <td>11</td>\n",
       "      <td>1</td>\n",
       "      <td>1</td>\n",
       "    </tr>\n",
       "    <tr>\n",
       "      <th>3</th>\n",
       "      <td>3</td>\n",
       "      <td>11</td>\n",
       "      <td>1</td>\n",
       "      <td>1</td>\n",
       "    </tr>\n",
       "    <tr>\n",
       "      <th>4</th>\n",
       "      <td>4</td>\n",
       "      <td>11</td>\n",
       "      <td>1</td>\n",
       "      <td>1</td>\n",
       "    </tr>\n",
       "  </tbody>\n",
       "</table>\n",
       "</div>"
      ],
      "text/plain": [
       "   client  round  t_anom  anom\n",
       "0       0     11       1     1\n",
       "1       1     11       1     1\n",
       "2       2     11       1     1\n",
       "3       3     11       1     1\n",
       "4       4     11       1     1"
      ]
     },
     "execution_count": 157,
     "metadata": {},
     "output_type": "execute_result"
    }
   ],
   "source": [
    "analise[analise['t_anom'] == 1]"
   ]
  },
  {
   "cell_type": "code",
   "execution_count": null,
   "metadata": {},
   "outputs": [],
   "source": []
  }
 ],
 "metadata": {
  "kernelspec": {
   "display_name": "Python 3",
   "language": "python",
   "name": "python3"
  },
  "language_info": {
   "codemirror_mode": {
    "name": "ipython",
    "version": 3
   },
   "file_extension": ".py",
   "mimetype": "text/x-python",
   "name": "python",
   "nbconvert_exporter": "python",
   "pygments_lexer": "ipython3",
   "version": "3.8.10"
  }
 },
 "nbformat": 4,
 "nbformat_minor": 2
}
